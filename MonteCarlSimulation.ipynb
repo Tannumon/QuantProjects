{
 "cells": [
  {
   "cell_type": "markdown",
   "metadata": {},
   "source": [
    "Monte Carlo Simulation - simulate many possible scenarios using probabilities from which we can use the statistical outcome of the data to gain insight into pricing complex derivatives in the context of option pricing."
   ]
  },
  {
   "cell_type": "code",
   "execution_count": 1,
   "metadata": {},
   "outputs": [
    {
     "name": "stdout",
     "output_type": "stream",
     "text": [
      "Collecting pandas_datareader\n",
      "  Downloading pandas_datareader-0.10.0-py3-none-any.whl.metadata (2.9 kB)\n",
      "Collecting lxml (from pandas_datareader)\n",
      "  Downloading lxml-5.2.1-cp310-cp310-win_amd64.whl.metadata (3.5 kB)\n",
      "Requirement already satisfied: pandas>=0.23 in c:\\users\\tanush siotia\\appdata\\local\\programs\\python\\python310\\lib\\site-packages (from pandas_datareader) (2.2.1)\n",
      "Collecting requests>=2.19.0 (from pandas_datareader)\n",
      "  Downloading requests-2.31.0-py3-none-any.whl.metadata (4.6 kB)\n",
      "Requirement already satisfied: numpy<2,>=1.22.4 in c:\\users\\tanush siotia\\appdata\\local\\programs\\python\\python310\\lib\\site-packages (from pandas>=0.23->pandas_datareader) (1.26.2)\n",
      "Requirement already satisfied: python-dateutil>=2.8.2 in c:\\users\\tanush siotia\\appdata\\roaming\\python\\python310\\site-packages (from pandas>=0.23->pandas_datareader) (2.8.2)\n",
      "Requirement already satisfied: pytz>=2020.1 in c:\\users\\tanush siotia\\appdata\\local\\programs\\python\\python310\\lib\\site-packages (from pandas>=0.23->pandas_datareader) (2024.1)\n",
      "Requirement already satisfied: tzdata>=2022.7 in c:\\users\\tanush siotia\\appdata\\local\\programs\\python\\python310\\lib\\site-packages (from pandas>=0.23->pandas_datareader) (2024.1)\n",
      "Collecting charset-normalizer<4,>=2 (from requests>=2.19.0->pandas_datareader)\n",
      "  Downloading charset_normalizer-3.3.2-cp310-cp310-win_amd64.whl.metadata (34 kB)\n",
      "Collecting idna<4,>=2.5 (from requests>=2.19.0->pandas_datareader)\n",
      "  Downloading idna-3.6-py3-none-any.whl.metadata (9.9 kB)\n",
      "Collecting urllib3<3,>=1.21.1 (from requests>=2.19.0->pandas_datareader)\n",
      "  Downloading urllib3-2.2.1-py3-none-any.whl.metadata (6.4 kB)\n",
      "Collecting certifi>=2017.4.17 (from requests>=2.19.0->pandas_datareader)\n",
      "  Downloading certifi-2024.2.2-py3-none-any.whl.metadata (2.2 kB)\n",
      "Requirement already satisfied: six>=1.5 in c:\\users\\tanush siotia\\appdata\\roaming\\python\\python310\\site-packages (from python-dateutil>=2.8.2->pandas>=0.23->pandas_datareader) (1.16.0)\n",
      "Downloading pandas_datareader-0.10.0-py3-none-any.whl (109 kB)\n",
      "   ---------------------------------------- 0.0/109.5 kB ? eta -:--:--\n",
      "   ---------------------------------------- 109.5/109.5 kB 2.1 MB/s eta 0:00:00\n",
      "Downloading requests-2.31.0-py3-none-any.whl (62 kB)\n",
      "   ---------------------------------------- 0.0/62.6 kB ? eta -:--:--\n",
      "   ---------------------------------------- 62.6/62.6 kB 3.3 MB/s eta 0:00:00\n",
      "Downloading lxml-5.2.1-cp310-cp310-win_amd64.whl (3.8 MB)\n",
      "   ---------------------------------------- 0.0/3.8 MB ? eta -:--:--\n",
      "   - -------------------------------------- 0.1/3.8 MB 4.3 MB/s eta 0:00:01\n",
      "   ---- ----------------------------------- 0.4/3.8 MB 4.5 MB/s eta 0:00:01\n",
      "   ------- -------------------------------- 0.7/3.8 MB 5.3 MB/s eta 0:00:01\n",
      "   --------- ------------------------------ 0.9/3.8 MB 4.7 MB/s eta 0:00:01\n",
      "   ----------- ---------------------------- 1.1/3.8 MB 4.6 MB/s eta 0:00:01\n",
      "   -------------- ------------------------- 1.4/3.8 MB 4.8 MB/s eta 0:00:01\n",
      "   ---------------- ----------------------- 1.6/3.8 MB 5.0 MB/s eta 0:00:01\n",
      "   ---------------- ----------------------- 1.6/3.8 MB 5.0 MB/s eta 0:00:01\n",
      "   ---------------- ----------------------- 1.6/3.8 MB 5.0 MB/s eta 0:00:01\n",
      "   ------------------- -------------------- 1.9/3.8 MB 4.0 MB/s eta 0:00:01\n",
      "   --------------------- ------------------ 2.0/3.8 MB 4.1 MB/s eta 0:00:01\n",
      "   ----------------------- ---------------- 2.2/3.8 MB 4.1 MB/s eta 0:00:01\n",
      "   -------------------------- ------------- 2.5/3.8 MB 4.3 MB/s eta 0:00:01\n",
      "   ---------------------------- ----------- 2.7/3.8 MB 4.1 MB/s eta 0:00:01\n",
      "   ----------------------------- ---------- 2.8/3.8 MB 4.0 MB/s eta 0:00:01\n",
      "   ------------------------------- -------- 3.0/3.8 MB 4.1 MB/s eta 0:00:01\n",
      "   ------------------------------- -------- 3.0/3.8 MB 4.1 MB/s eta 0:00:01\n",
      "   ------------------------------- -------- 3.0/3.8 MB 4.1 MB/s eta 0:00:01\n",
      "   -------------------------------- ------- 3.1/3.8 MB 3.5 MB/s eta 0:00:01\n",
      "   --------------------------------- ------ 3.2/3.8 MB 3.4 MB/s eta 0:00:01\n",
      "   ----------------------------------- ---- 3.3/3.8 MB 3.4 MB/s eta 0:00:01\n",
      "   ------------------------------------- -- 3.5/3.8 MB 3.5 MB/s eta 0:00:01\n",
      "   ------------------------------------- -- 3.5/3.8 MB 3.4 MB/s eta 0:00:01\n",
      "   -------------------------------------- - 3.7/3.8 MB 3.3 MB/s eta 0:00:01\n",
      "   ---------------------------------------- 3.8/3.8 MB 3.3 MB/s eta 0:00:00\n",
      "Downloading certifi-2024.2.2-py3-none-any.whl (163 kB)\n",
      "   ---------------------------------------- 0.0/163.8 kB ? eta -:--:--\n",
      "   ---------------------------------------- 163.8/163.8 kB 3.3 MB/s eta 0:00:00\n",
      "Downloading charset_normalizer-3.3.2-cp310-cp310-win_amd64.whl (100 kB)\n",
      "   ---------------------------------------- 0.0/100.3 kB ? eta -:--:--\n",
      "   ---------------------------------------- 100.3/100.3 kB 2.9 MB/s eta 0:00:00\n",
      "Downloading idna-3.6-py3-none-any.whl (61 kB)\n",
      "   ---------------------------------------- 0.0/61.6 kB ? eta -:--:--\n",
      "   ---------------------------------------- 61.6/61.6 kB 3.2 MB/s eta 0:00:00\n",
      "Downloading urllib3-2.2.1-py3-none-any.whl (121 kB)\n",
      "   ---------------------------------------- 0.0/121.1 kB ? eta -:--:--\n",
      "   ---------------------------------------- 121.1/121.1 kB 6.9 MB/s eta 0:00:00\n",
      "Installing collected packages: urllib3, lxml, idna, charset-normalizer, certifi, requests, pandas_datareader\n",
      "Successfully installed certifi-2024.2.2 charset-normalizer-3.3.2 idna-3.6 lxml-5.2.1 pandas_datareader-0.10.0 requests-2.31.0 urllib3-2.2.1\n"
     ]
    },
    {
     "name": "stderr",
     "output_type": "stream",
     "text": [
      "\n",
      "[notice] A new release of pip is available: 23.3.1 -> 24.0\n",
      "[notice] To update, run: python.exe -m pip install --upgrade pip\n"
     ]
    }
   ],
   "source": [
    "!pip install --upgrade pandas_datareader"
   ]
  },
  {
   "cell_type": "code",
   "execution_count": 2,
   "metadata": {},
   "outputs": [],
   "source": [
    "# Import dependencies\n",
    "import math\n",
    "import numpy as np\n",
    "import pandas as pd\n",
    "import datetime\n",
    "import scipy.stats as stats\n",
    "import matplotlib.pyplot as plt\n",
    "from pandas_datareader import data as pdr"
   ]
  },
  {
   "cell_type": "markdown",
   "metadata": {},
   "source": []
  },
  {
   "cell_type": "code",
   "execution_count": null,
   "metadata": {},
   "outputs": [],
   "source": []
  }
 ],
 "metadata": {
  "kernelspec": {
   "display_name": "Python 3",
   "language": "python",
   "name": "python3"
  },
  "language_info": {
   "codemirror_mode": {
    "name": "ipython",
    "version": 3
   },
   "file_extension": ".py",
   "mimetype": "text/x-python",
   "name": "python",
   "nbconvert_exporter": "python",
   "pygments_lexer": "ipython3",
   "version": "3.10.6"
  }
 },
 "nbformat": 4,
 "nbformat_minor": 2
}
