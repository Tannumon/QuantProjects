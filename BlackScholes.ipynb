{
 "cells": [
  {
   "cell_type": "markdown",
   "metadata": {},
   "source": [
    "Black Scholes Model is used for pricing options relying on 5 parameters: \n",
    "Underlying Price - current market price of asset\n",
    "Strike Price - predetermined price at which the option can be exercised\n",
    "Time to Expiration - time left until the option expires\n",
    "Risk Free Rate - constant rate of return on a risk free asset\n",
    "Volatility - fluctuation of the asset's price - essentially standard deviation\n",
    "\n"
   ]
  },
  {
   "cell_type": "code",
   "execution_count": 1,
   "metadata": {},
   "outputs": [],
   "source": [
    "import math\n",
    "import numpy as np\n",
    "import pandas as pd\n",
    "import datetime\n",
    "import scipy.stats as stats\n",
    "import matplotlib as plt"
   ]
  },
  {
   "cell_type": "code",
   "execution_count": 4,
   "metadata": {},
   "outputs": [],
   "source": [
    "# Declaring Variables - selecting arbitrary values for a random stock\n",
    "S = 42  # Underlying Price\n",
    "K = 40  # Strike Price\n",
    "T = 0.5  # Time to Expiration\n",
    "r = 0.1 # Risk-Free Rate\n",
    "vol = 0.2 # Volatility (σ)"
   ]
  },
  {
   "cell_type": "code",
   "execution_count": 39,
   "metadata": {},
   "outputs": [],
   "source": [
    "def blackScholes(s, k, t, R, sigma, type):\n",
    "    # Calculate the black scholes option price for a call \n",
    "    d1 = (np.log(s/k) + (R + 0.5 * (sigma ** 2)) * t) / (sigma * (t ** 0.5))\n",
    "    d2 = d1 - (sigma * (t ** 0.5))\n",
    "    if (type == \"C\"):\n",
    "        optionPrice = s * stats.norm.cdf(d1, 0, 1) - k * math.exp(-R * t) * stats.norm.cdf(d2, 0, 1)\n",
    "    elif (type == \"P\"):\n",
    "        optionPrice = k * math.exp(-R * t) * stats.norm.cdf(-d2, 0, 1) - s * stats.norm.cdf(-d1, 0, 1)\n",
    "    return optionPrice"
   ]
  },
  {
   "cell_type": "code",
   "execution_count": 41,
   "metadata": {},
   "outputs": [
    {
     "name": "stdout",
     "output_type": "stream",
     "text": [
      "0.51\n"
     ]
    }
   ],
   "source": [
    "print(round(blackScholes(30, 40, 240/365, 0.01, 0.3, \"C\"), 2))\n",
    "# plt.plot(d1, d2)"
   ]
  }
 ],
 "metadata": {
  "kernelspec": {
   "display_name": "Python 3",
   "language": "python",
   "name": "python3"
  },
  "language_info": {
   "codemirror_mode": {
    "name": "ipython",
    "version": 3
   },
   "file_extension": ".py",
   "mimetype": "text/x-python",
   "name": "python",
   "nbconvert_exporter": "python",
   "pygments_lexer": "ipython3",
   "version": "3.10.6"
  }
 },
 "nbformat": 4,
 "nbformat_minor": 2
}
